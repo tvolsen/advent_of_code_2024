{
 "cells": [
  {
   "cell_type": "code",
   "execution_count": null,
   "metadata": {},
   "outputs": [],
   "source": [
    "with open('12.in') as f:\n",
    "    lines = f.read().strip().split('\\n')\n",
    "    grid = [[x for x in line] for line in lines]"
   ]
  },
  {
   "cell_type": "code",
   "execution_count": null,
   "metadata": {},
   "outputs": [],
   "source": [
    "g = {}\n",
    "#  build a graph where the vertices are i,j pairs in the grid\n",
    "# and the edges are between equal letters\n",
    "for i in range(len(grid)):\n",
    "    for j in range(len(grid[0])):\n",
    "        g[(i,j)] = set({})\n",
    "        for a,b in [(1, 0), (-1, 0), (0, 1), (0, -1)]:\n",
    "            if 0 <= i+a < len(grid) and 0 <= j+b < len(grid[0]):\n",
    "                if grid[i+a][j+b] == grid[i][j]:\n",
    "                    g[(i,j)].add((i+a, j+b))"
   ]
  },
  {
   "cell_type": "code",
   "execution_count": null,
   "metadata": {},
   "outputs": [],
   "source": [
    "def dfs(v, char, grid):\n",
    "    global inside\n",
    "    global visited\n",
    "    inside.add(v)\n",
    "    visited.add(v)\n",
    "    for neighbor in g[v]:\n",
    "        if neighbor not in inside:\n",
    "            dfs(neighbor, char, grid)"
   ]
  },
  {
   "cell_type": "code",
   "execution_count": null,
   "metadata": {},
   "outputs": [],
   "source": [
    "# creates a buffer around inside with the direction the fence is coming from\n",
    "''' Example:\n",
    "EEE\n",
    "EOO\n",
    "EEE\n",
    "The left O will have a fence from the E above it, below it and to the right of it\n",
    "'''\n",
    "def generate_outside(inside):\n",
    "    outside = []\n",
    "    for shift_i, shift_j, direction in [(1,0,'down'), (-1,0,'up'), (0,1,'right'), (0,-1,'left')]:\n",
    "        for p,q in inside:\n",
    "            if (p+shift_i, q+shift_j) not in inside:\n",
    "                outside.append((p+shift_i, q+shift_j, direction))\n",
    "    return outside"
   ]
  },
  {
   "cell_type": "code",
   "execution_count": null,
   "metadata": {},
   "outputs": [],
   "source": [
    "# finds the number of sides each of the outside region, direction is needed for corners\n",
    "def section_fence(outside):\n",
    "    seen = set({})\n",
    "    n_sides = 0\n",
    "    for a,b,direction in outside:\n",
    "        if (a,b,direction) in seen:\n",
    "            continue\n",
    "        n_sides += 1\n",
    "        # continue along a straight line to get all continuous colinear points\n",
    "        for shift_i, shift_j in [(1,0), (-1,0), (0,1), (0,-1)]:\n",
    "            k = 1\n",
    "            while (a + k*shift_i, b + k*shift_j, direction) in outside:\n",
    "                seen.add((a + k*shift_i, b + k*shift_j, direction))\n",
    "                k += 1\n",
    "    return n_sides"
   ]
  },
  {
   "cell_type": "code",
   "execution_count": null,
   "metadata": {},
   "outputs": [],
   "source": [
    "visited = set({})\n",
    "ans1 = 0\n",
    "ans2 = 0\n",
    "for i in range(len(grid)):\n",
    "    for j in range(len(grid[0])):\n",
    "        inside = set({})\n",
    "        if (i,j) not in visited:\n",
    "            visited.add((i,j))\n",
    "            char = grid[i][j]\n",
    "            dfs((i,j), char, grid)\n",
    "            # the number of spots in each connected component\n",
    "            area = len(inside)\n",
    "            # the buffered boundary\n",
    "            outside = generate_outside(inside)\n",
    "            # the number of spots in the buffered boundary\n",
    "            perm = len(outside)\n",
    "            # the number of sides in the buffered boundary\n",
    "            n_sides = section_fence(outside)\n",
    "            ans1 += area * perm\n",
    "            ans2 += area * n_sides\n",
    "            "
   ]
  },
  {
   "cell_type": "code",
   "execution_count": null,
   "metadata": {},
   "outputs": [],
   "source": [
    "print(f'Answer 1:\\n{ans1}\\n')\n",
    "print(f'Answer 2:\\n{ans2}')"
   ]
  },
  {
   "cell_type": "code",
   "execution_count": null,
   "metadata": {},
   "outputs": [],
   "source": []
  }
 ],
 "metadata": {
  "kernelspec": {
   "display_name": "Python 3",
   "language": "python",
   "name": "python3"
  },
  "language_info": {
   "codemirror_mode": {
    "name": "ipython",
    "version": 3
   },
   "file_extension": ".py",
   "mimetype": "text/x-python",
   "name": "python",
   "nbconvert_exporter": "python",
   "pygments_lexer": "ipython3",
   "version": "3.10.12"
  }
 },
 "nbformat": 4,
 "nbformat_minor": 2
}
