{
 "cells": [
  {
   "cell_type": "code",
   "execution_count": null,
   "metadata": {},
   "outputs": [],
   "source": [
    "from collections import defaultdict\n",
    "\n",
    "with open('11.in') as f:\n",
    "    stones = f.read().strip().split(' ')"
   ]
  },
  {
   "cell_type": "code",
   "execution_count": null,
   "metadata": {},
   "outputs": [],
   "source": [
    "def blink(stone, i):\n",
    "    global history\n",
    "    stone = str(int(stone))\n",
    "    # base case\n",
    "    if i == 0:\n",
    "        return 1\n",
    "    # return count if found\n",
    "    elif i in history[stone]:\n",
    "        return history[stone][i]\n",
    "    # follow rule set\n",
    "    elif stone == '0':\n",
    "         count = blink('1', i-1)\n",
    "    elif len(stone) % 2 == 0:\n",
    "        m = len(stone) // 2\n",
    "        left = stone[:m]\n",
    "        right = stone[m:]\n",
    "        count = blink(left, i-1)\n",
    "        count += blink(right, i-1)\n",
    "    else:\n",
    "        count = blink(str(int(stone) * 2024), i-1)\n",
    "    # store history counts\n",
    "    history[stone][i] = count\n",
    "    return count\n",
    "        \n"
   ]
  },
  {
   "cell_type": "code",
   "execution_count": null,
   "metadata": {},
   "outputs": [],
   "source": [
    "history = defaultdict(dict)\n",
    "ans1 = 0\n",
    "ans2 = 0\n",
    "\n",
    "for stone in stones:\n",
    "    blink(stone, 25)\n",
    "    ans1 += history[stone][25]\n",
    "    blink(stone, 75)\n",
    "    ans2 += history[stone][75]"
   ]
  },
  {
   "cell_type": "code",
   "execution_count": null,
   "metadata": {},
   "outputs": [],
   "source": [
    "print(f'Answer 1:\\n{ans1}\\n')\n",
    "print(f'Answer 2:\\n{ans2}')"
   ]
  },
  {
   "cell_type": "code",
   "execution_count": null,
   "metadata": {},
   "outputs": [],
   "source": []
  }
 ],
 "metadata": {
  "kernelspec": {
   "display_name": "Python 3",
   "language": "python",
   "name": "python3"
  },
  "language_info": {
   "codemirror_mode": {
    "name": "ipython",
    "version": 3
   },
   "file_extension": ".py",
   "mimetype": "text/x-python",
   "name": "python",
   "nbconvert_exporter": "python",
   "pygments_lexer": "ipython3",
   "version": "3.10.12"
  }
 },
 "nbformat": 4,
 "nbformat_minor": 2
}
