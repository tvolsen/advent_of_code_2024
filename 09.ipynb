{
 "cells": [
  {
   "cell_type": "code",
   "execution_count": 9,
   "metadata": {},
   "outputs": [],
   "source": [
    "with open('09.in') as f:\n",
    "    line = f.read().strip()"
   ]
  },
  {
   "cell_type": "code",
   "execution_count": 10,
   "metadata": {},
   "outputs": [],
   "source": [
    "tape = []\n",
    "k = 0\n",
    "for i,c in enumerate(line):\n",
    "    c = int(c)\n",
    "    if i % 2 == 0:\n",
    "        tape += c * [str(k)]\n",
    "        k += 1\n",
    "    else:\n",
    "        tape += c * ['.']"
   ]
  },
  {
   "cell_type": "code",
   "execution_count": 11,
   "metadata": {},
   "outputs": [],
   "source": [
    "tape1 = list(tape)\n",
    "left = 0\n",
    "right = len(tape1) - 1\n",
    "# use two pointers to move nums around\n",
    "while left < right:\n",
    "    if tape1[left] == '.' and tape1[right] != '.':\n",
    "        # swap blank val with current num val\n",
    "        tape1[left], tape1[right] = tape1[right], tape1[left]\n",
    "        left += 1\n",
    "        right -= 1\n",
    "    else:\n",
    "        # adjust pointers\n",
    "        if tape1[left] != '.':\n",
    "            left += 1\n",
    "        if tape1[right] == '.':\n",
    "            right -= 1\n",
    "tape1 = [int(x) for x in tape1[:left+1]]"
   ]
  },
  {
   "cell_type": "code",
   "execution_count": 12,
   "metadata": {},
   "outputs": [],
   "source": [
    "ans1 = 0\n",
    "for i,n in enumerate(tape1):\n",
    "    ans1 += i*n"
   ]
  },
  {
   "cell_type": "code",
   "execution_count": 13,
   "metadata": {},
   "outputs": [],
   "source": [
    "tape2 = list(tape)\n",
    "# these store the start pos and len of each block\n",
    "blank_blocks = {}\n",
    "num_blocks = {}\n",
    "i = 0\n",
    "while i < len(tape2):\n",
    "    j = 0\n",
    "    c = tape[i+j]\n",
    "    # count how many consecutive symbols appear\n",
    "    while i+j < len(tape2) and tape2[i+j] == c:\n",
    "        j += 1\n",
    "    if c == '.':\n",
    "        blank_blocks[i] = j\n",
    "    else:\n",
    "        num_blocks[i] = j\n",
    "    i += j\n"
   ]
  },
  {
   "cell_type": "code",
   "execution_count": 14,
   "metadata": {},
   "outputs": [],
   "source": [
    "# reverse the number blocks to start from the back\n",
    "num_blocks = {k: v for k, v in sorted(num_blocks.items(), reverse=True)}"
   ]
  },
  {
   "cell_type": "code",
   "execution_count": 15,
   "metadata": {},
   "outputs": [],
   "source": [
    "# for each num block\n",
    "for i,dist_i in num_blocks.items():\n",
    "    # for each blank block\n",
    "    for j,dist_j in blank_blocks.items():\n",
    "        # if blank block is at least the size of num block and to its left\n",
    "        if dist_i <= dist_j and i > j:\n",
    "            # swap the values of the blocks\n",
    "            tape2[j:j+dist_i], tape2[i:i+dist_i] = tape2[i:i+dist_i], tape2[j:j+dist_i] \n",
    "            # shorten and shift the blank block\n",
    "            blank_blocks[j + dist_i] = blank_blocks[j] - (dist_i)\n",
    "            # resort the blank blocks\n",
    "            blank_blocks = dict(sorted(blank_blocks.items())) \n",
    "            # effectively remove filled blank block\n",
    "            blank_blocks[j] = -1\n",
    "            break\n"
   ]
  },
  {
   "cell_type": "code",
   "execution_count": 16,
   "metadata": {},
   "outputs": [],
   "source": [
    "ans2 = 0\n",
    "for i,n in enumerate(tape2):\n",
    "    if n != '.':\n",
    "        ans2 += i*int(n)"
   ]
  },
  {
   "cell_type": "code",
   "execution_count": 17,
   "metadata": {},
   "outputs": [
    {
     "name": "stdout",
     "output_type": "stream",
     "text": [
      "Answer 1:\n",
      "6395800119709\n",
      "\n",
      "Answer 2:\n",
      "6418529470362\n"
     ]
    }
   ],
   "source": [
    "print(f'Answer 1:\\n{ans1}\\n')\n",
    "print(f'Answer 2:\\n{ans2}')"
   ]
  },
  {
   "cell_type": "code",
   "execution_count": null,
   "metadata": {},
   "outputs": [],
   "source": []
  }
 ],
 "metadata": {
  "kernelspec": {
   "display_name": "Python 3",
   "language": "python",
   "name": "python3"
  },
  "language_info": {
   "codemirror_mode": {
    "name": "ipython",
    "version": 3
   },
   "file_extension": ".py",
   "mimetype": "text/x-python",
   "name": "python",
   "nbconvert_exporter": "python",
   "pygments_lexer": "ipython3",
   "version": "3.10.12"
  }
 },
 "nbformat": 4,
 "nbformat_minor": 2
}
