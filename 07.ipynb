{
 "cells": [
  {
   "cell_type": "code",
   "execution_count": 247,
   "metadata": {},
   "outputs": [],
   "source": [
    "with open('07.in') as f:\n",
    "    lines = f.read().strip().split('\\n')"
   ]
  },
  {
   "cell_type": "code",
   "execution_count": null,
   "metadata": {},
   "outputs": [],
   "source": [
    "# keeping this function separate to store in memory instead of recalculating\n",
    "def generate_ops(symbols):\n",
    "    operators = {0 : ['']}\n",
    "    longest = 0\n",
    "    # find the longest line\n",
    "    for line in lines:\n",
    "        rhs = line.split(':')[1].strip().split(' ')\n",
    "        longest = max(longest, len(rhs))\n",
    "    # generate all possible operation strings up to longest len\n",
    "    # ex: for part 1, n=2 gives us: ++, +*, *+, **\n",
    "    for i in range(1, longest):\n",
    "        operators[i] = []\n",
    "        for sym in symbols:\n",
    "            operators[i] += [x + sym for x in operators[i-1]]\n",
    "    return operators\n"
   ]
  },
  {
   "cell_type": "code",
   "execution_count": null,
   "metadata": {},
   "outputs": [],
   "source": [
    "# combine the numbers and operation strings\n",
    "def evaluate(nums, ops):\n",
    "    val = nums[0]\n",
    "    for i in range(len(ops)):\n",
    "        if ops[i] == '+':\n",
    "            val += nums[i+1]\n",
    "        elif ops[i] == '*':\n",
    "            val *= nums[i+1]\n",
    "        else:\n",
    "            val = int(str(val) + str(nums[i+1]))\n",
    "    return val\n"
   ]
  },
  {
   "cell_type": "code",
   "execution_count": 250,
   "metadata": {},
   "outputs": [],
   "source": [
    "ans1 = 0\n",
    "ans2 = 0\n",
    "for part, syms in enumerate([['+', '*'], ['+', '*', '|']]):\n",
    "    operations = generate_ops(syms)\n",
    "    for line in lines:\n",
    "        lhs, rhs = line.split(':')\n",
    "        lhs = int(lhs.strip())\n",
    "        rhs = rhs.strip()\n",
    "        rhs = [int(x) for x in rhs.split(' ')]\n",
    "        n = len(rhs) - 1\n",
    "        for ops in operations[n]:\n",
    "            if evaluate(rhs, ops) == lhs:\n",
    "                if part == 0:\n",
    "                    ans1 += lhs\n",
    "                else:\n",
    "                    ans2 += lhs\n",
    "                break\n"
   ]
  },
  {
   "cell_type": "code",
   "execution_count": null,
   "metadata": {},
   "outputs": [
    {
     "name": "stdout",
     "output_type": "stream",
     "text": [
      "Answer 1:\n",
      "7710205485870\n",
      "\n",
      "Answer 2:\n",
      "20928985450275\n"
     ]
    }
   ],
   "source": [
    "print(f'Answer 1:\\n{ans1}\\n')\n",
    "print(f'Answer 2:\\n{ans2}')"
   ]
  },
  {
   "cell_type": "code",
   "execution_count": null,
   "metadata": {},
   "outputs": [],
   "source": []
  }
 ],
 "metadata": {
  "kernelspec": {
   "display_name": "Python 3",
   "language": "python",
   "name": "python3"
  },
  "language_info": {
   "codemirror_mode": {
    "name": "ipython",
    "version": 3
   },
   "file_extension": ".py",
   "mimetype": "text/x-python",
   "name": "python",
   "nbconvert_exporter": "python",
   "pygments_lexer": "ipython3",
   "version": "3.10.12"
  }
 },
 "nbformat": 4,
 "nbformat_minor": 2
}
