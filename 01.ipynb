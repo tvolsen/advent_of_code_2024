{
 "cells": [
  {
   "cell_type": "code",
   "execution_count": null,
   "metadata": {},
   "outputs": [],
   "source": [
    "import re\n",
    "\n",
    "with open('01.in') as f:\n",
    "    raw = f.read().strip()\n",
    "    lines = raw.split('\\n')\n",
    "    lines = [re.split('\\s+', x) for x in lines]\n",
    "    lines = [[int(x[0]), int(x[1])] for x in lines]\n",
    "    left = [int(x[0]) for x in lines]\n",
    "    right = [int(x[1]) for x in lines]\n",
    "    left = sorted(left)\n",
    "    right = sorted(right)"
   ]
  },
  {
   "cell_type": "code",
   "execution_count": null,
   "metadata": {},
   "outputs": [],
   "source": [
    "ans1 = 0\n",
    "for i in range(len(left)):\n",
    "    ans1 += abs(left[i] - right[i])"
   ]
  },
  {
   "cell_type": "code",
   "execution_count": null,
   "metadata": {},
   "outputs": [],
   "source": [
    "ans2 = 0\n",
    "for x in left:\n",
    "    ans2 += x*right.count(x)"
   ]
  },
  {
   "cell_type": "code",
   "execution_count": null,
   "metadata": {},
   "outputs": [],
   "source": [
    "print(f'Answer 1:\\n{ans1}\\n')\n",
    "print(f'Answer 2:\\n{ans2}')"
   ]
  },
  {
   "cell_type": "code",
   "execution_count": null,
   "metadata": {},
   "outputs": [],
   "source": []
  }
 ],
 "metadata": {
  "kernelspec": {
   "display_name": "Python 3",
   "language": "python",
   "name": "python3"
  },
  "language_info": {
   "codemirror_mode": {
    "name": "ipython",
    "version": 3
   },
   "file_extension": ".py",
   "mimetype": "text/x-python",
   "name": "python",
   "nbconvert_exporter": "python",
   "pygments_lexer": "ipython3",
   "version": "3.10.12"
  }
 },
 "nbformat": 4,
 "nbformat_minor": 2
}
