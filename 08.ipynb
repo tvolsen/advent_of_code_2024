{
 "cells": [
  {
   "cell_type": "code",
   "execution_count": 272,
   "metadata": {},
   "outputs": [],
   "source": [
    "with open('08.in') as f:\n",
    "    lines = f.read().strip().split('\\n')"
   ]
  },
  {
   "cell_type": "code",
   "execution_count": 273,
   "metadata": {},
   "outputs": [],
   "source": [
    "d = {}\n",
    "all_points = set({})\n",
    "for i in range(len(lines)-1, -1, -1):\n",
    "    for j in range(len(lines[0])):\n",
    "        all_points.add((j,i))\n",
    "        c = lines[j][i]\n",
    "        if c == '.':\n",
    "            continue\n",
    "        if c not in d:\n",
    "            d[c] = [(j,i)]\n",
    "        else:\n",
    "            d[c].append((j,i))"
   ]
  },
  {
   "cell_type": "code",
   "execution_count": null,
   "metadata": {},
   "outputs": [],
   "source": [
    "ans1 = 0\n",
    "ans2 = 0\n",
    "antinodes1 = set({})\n",
    "antinodes2 = set({})\n",
    "for k,v in d.items():\n",
    "    if k == '#':\n",
    "        continue\n",
    "    for i in range(len(v)):\n",
    "        for j in range(i+1, len(v)):\n",
    "            x, y = v[i]\n",
    "            a, b = v[j]\n",
    "            # midpoint formulas\n",
    "            if (2*a - x, 2*b - y) in all_points:\n",
    "                antinodes1.add((2*a - x, 2*b - y))\n",
    "            if (2*x - a, 2*y - b) in all_points:\n",
    "                antinodes1.add(((2*x - a , 2*y - b)))\n",
    "            for (p,q) in all_points - antinodes2:\n",
    "                # avoid divison by 0\n",
    "                if a == x:\n",
    "                    antinodes2.add((x,y))\n",
    "                    antinodes2.add((a,b))\n",
    "                # point-slope forms, need round for floating point errors\n",
    "                if q-b == round(((b-y)/(a-x))*(p-a), 5):\n",
    "                    antinodes2.add((p,q))\n",
    "                if q-b == round(((b-y)/(a-x))*(p-a), 5):\n",
    "                    antinodes2.add((p,q))\n",
    "            "
   ]
  },
  {
   "cell_type": "code",
   "execution_count": 278,
   "metadata": {},
   "outputs": [
    {
     "name": "stdout",
     "output_type": "stream",
     "text": [
      "Answer 1:\n",
      "336\n",
      "\n",
      "Answer 2:\n",
      "1131\n"
     ]
    }
   ],
   "source": [
    "print(f'Answer 1:\\n{ans1}\\n')\n",
    "print(f'Answer 2:\\n{ans2}')"
   ]
  },
  {
   "cell_type": "code",
   "execution_count": null,
   "metadata": {},
   "outputs": [],
   "source": []
  }
 ],
 "metadata": {
  "kernelspec": {
   "display_name": "Python 3",
   "language": "python",
   "name": "python3"
  },
  "language_info": {
   "codemirror_mode": {
    "name": "ipython",
    "version": 3
   },
   "file_extension": ".py",
   "mimetype": "text/x-python",
   "name": "python",
   "nbconvert_exporter": "python",
   "pygments_lexer": "ipython3",
   "version": "3.10.12"
  }
 },
 "nbformat": 4,
 "nbformat_minor": 2
}
