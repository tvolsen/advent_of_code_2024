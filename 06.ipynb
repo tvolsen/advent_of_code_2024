{
 "cells": [
  {
   "cell_type": "code",
   "execution_count": 1,
   "metadata": {},
   "outputs": [],
   "source": [
    "with open('06.in') as f:\n",
    "    start_map = f.read().strip().split('\\n')\n",
    "    start_map =[[c for c in x] for x in start_map]"
   ]
  },
  {
   "cell_type": "code",
   "execution_count": 2,
   "metadata": {},
   "outputs": [],
   "source": [
    "directions = ['^', '>', 'v', '<']\n",
    "steps = {\n",
    "    '^' : (-1, 0),\n",
    "    '>' : (0, 1),\n",
    "    'v' : (1, 0),\n",
    "    '<' : (0, -1)\n",
    "}"
   ]
  },
  {
   "cell_type": "code",
   "execution_count": 3,
   "metadata": {},
   "outputs": [],
   "source": [
    "def traverse_map(i, j, guard, curr_map):\n",
    "    guard_history = [guard]\n",
    "    k = 0\n",
    "    visited = {}\n",
    "    visited[(i,j)] = [k]\n",
    "\n",
    "    while True:\n",
    "        k += 1\n",
    "        i += steps[guard][0]\n",
    "        j += steps[guard][1]\n",
    "        if not (0 <= i < len(curr_map) and 0 <= j < len(curr_map[0])):\n",
    "            break\n",
    "        if curr_map[i][j] == '#':\n",
    "            # take a step back \n",
    "            i -= steps[guard][0]\n",
    "            j -= steps[guard][1]\n",
    "            # rotate the guard to next cyclic list element\n",
    "            idx = (directions.index(guard) + 1) % len(directions)\n",
    "            guard = directions[idx]\n",
    "        else:\n",
    "            if (i,j) in visited:\n",
    "                visited[(i,j)].append(k)\n",
    "                if len(visited[(i,j)]) > 2:\n",
    "                    # for part 2, ppigeon hole principle, if visited 5 or more times, must have a loop because the guard will be walking the same way in the same space\n",
    "                    if len(visited[(i,j)]) > 4:\n",
    "                        return -1\n",
    "            else:\n",
    "                visited[(i,j)] = [k]\n",
    "        # visited.append((i,j))\n",
    "        guard_history.append(guard)\n",
    "    return visited"
   ]
  },
  {
   "cell_type": "code",
   "execution_count": 4,
   "metadata": {},
   "outputs": [],
   "source": [
    "for a in range(len(start_map)):\n",
    "    for b in range(len(start_map[0])):\n",
    "        if start_map[a][b] in directions:\n",
    "            guard = str(start_map[a][b])\n",
    "            i = a\n",
    "            j = b\n",
    "                \n",
    "visited = traverse_map(i, j, guard, start_map)\n",
    "ans1 = len(set(visited))\n"
   ]
  },
  {
   "cell_type": "code",
   "execution_count": 5,
   "metadata": {},
   "outputs": [],
   "source": [
    "ans2 = 0\n",
    "for location in visited.keys():\n",
    "    # create a new copy of the map\n",
    "    temp_map = [[col for col in row] for row in start_map]\n",
    "    # add an obsticle\n",
    "    temp_map[location[0]][location[1]] = '#'\n",
    "    # attempt to traverse the new map\n",
    "    temp_visited = traverse_map(i, j, guard, temp_map)\n",
    "    if temp_visited == -1:\n",
    "        ans2 += 1\n",
    "    \n",
    "    "
   ]
  },
  {
   "cell_type": "code",
   "execution_count": 6,
   "metadata": {},
   "outputs": [
    {
     "name": "stdout",
     "output_type": "stream",
     "text": [
      "Answer 1:\n",
      "5086\n",
      "\n",
      "Answer 2:\n",
      "1770\n"
     ]
    }
   ],
   "source": [
    "print(f'Answer 1:\\n{ans1}\\n')\n",
    "print(f'Answer 2:\\n{ans2}')"
   ]
  },
  {
   "cell_type": "code",
   "execution_count": null,
   "metadata": {},
   "outputs": [],
   "source": [
    "visited"
   ]
  },
  {
   "cell_type": "code",
   "execution_count": null,
   "metadata": {},
   "outputs": [],
   "source": []
  }
 ],
 "metadata": {
  "kernelspec": {
   "display_name": "Python 3",
   "language": "python",
   "name": "python3"
  },
  "language_info": {
   "codemirror_mode": {
    "name": "ipython",
    "version": 3
   },
   "file_extension": ".py",
   "mimetype": "text/x-python",
   "name": "python",
   "nbconvert_exporter": "python",
   "pygments_lexer": "ipython3",
   "version": "3.10.12"
  }
 },
 "nbformat": 4,
 "nbformat_minor": 2
}
