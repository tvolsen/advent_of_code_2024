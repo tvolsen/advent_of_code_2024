{
 "cells": [
  {
   "cell_type": "code",
   "execution_count": null,
   "metadata": {},
   "outputs": [],
   "source": [
    "with open('05.in') as f:\n",
    "    rules, cases = f.read().strip().split('\\n\\n')\n",
    "    rules = rules.split('\\n')\n",
    "    rules = [list(map(int, x.split('|'))) for x in rules]\n",
    "    cases = cases.split('\\n')\n",
    "    cases = [list(map(int, x.split(','))) for x in cases]"
   ]
  },
  {
   "cell_type": "code",
   "execution_count": null,
   "metadata": {},
   "outputs": [],
   "source": [
    "# create a set of what numbers must come after\n",
    "guide = {}\n",
    "for before, after in rules:\n",
    "    if before not in guide:\n",
    "        guide[before] = set([after])\n",
    "    else:\n",
    "        guide[before].add(after)"
   ]
  },
  {
   "cell_type": "code",
   "execution_count": null,
   "metadata": {},
   "outputs": [],
   "source": [
    "ans1 = 0\n",
    "invalid_cases = []\n",
    "for case in cases:\n",
    "    valid = 1\n",
    "    prev_nums = set({})\n",
    "    for num in case:\n",
    "        prev_nums.add(num)\n",
    "        if num in guide:\n",
    "            # ensure no rules are broken\n",
    "            if len(prev_nums & guide[num]) > 0:\n",
    "                valid = 0\n",
    "                invalid_cases.append(case)\n",
    "                break\n",
    "    if valid:\n",
    "        # choose the middle element\n",
    "        l = (len(case) // 2)\n",
    "        ans1 += case[l]"
   ]
  },
  {
   "cell_type": "code",
   "execution_count": null,
   "metadata": {},
   "outputs": [],
   "source": [
    "# basic insertion sort with key modification\n",
    "def insertion_sort(arr):\n",
    "    for i in range(1, len(arr)):\n",
    "        key = arr[i]\n",
    "        j = i - 1\n",
    "        # usual inequality replaced with guide based inequality\n",
    "        while j >= 0 and key not in guide.get(arr[j], {}):\n",
    "            arr[j + 1] = arr[j]\n",
    "            j -= 1\n",
    "        arr[j + 1] = key\n",
    "    return arr"
   ]
  },
  {
   "cell_type": "code",
   "execution_count": null,
   "metadata": {},
   "outputs": [],
   "source": [
    "ans2 = 0\n",
    "for case in invalid_cases:\n",
    "    case = insertion_sort(case)\n",
    "    l = (len(case) // 2)\n",
    "    ans2 += case[l]"
   ]
  },
  {
   "cell_type": "code",
   "execution_count": null,
   "metadata": {},
   "outputs": [],
   "source": [
    "print(f'Answer 1:\\n{ans1}\\n')\n",
    "print(f'Answer 2:\\n{ans2}')"
   ]
  },
  {
   "cell_type": "code",
   "execution_count": null,
   "metadata": {},
   "outputs": [],
   "source": []
  }
 ],
 "metadata": {
  "kernelspec": {
   "display_name": "Python 3",
   "language": "python",
   "name": "python3"
  },
  "language_info": {
   "codemirror_mode": {
    "name": "ipython",
    "version": 3
   },
   "file_extension": ".py",
   "mimetype": "text/x-python",
   "name": "python",
   "nbconvert_exporter": "python",
   "pygments_lexer": "ipython3",
   "version": "3.10.12"
  }
 },
 "nbformat": 4,
 "nbformat_minor": 2
}
