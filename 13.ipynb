{
 "cells": [
  {
   "cell_type": "code",
   "execution_count": null,
   "metadata": {},
   "outputs": [],
   "source": [
    "import re"
   ]
  },
  {
   "cell_type": "code",
   "execution_count": null,
   "metadata": {},
   "outputs": [],
   "source": [
    "with open('13.in') as f:\n",
    "    lines = f.read().strip().split('\\n\\n')"
   ]
  },
  {
   "cell_type": "code",
   "execution_count": null,
   "metadata": {},
   "outputs": [],
   "source": [
    "pattern_x = r'X[+=](\\d+)'\n",
    "pattern_y = r'Y[+=](\\d+)'\n",
    "\n",
    "ans1 = 0\n",
    "ans2 = 0\n",
    "\n",
    "for part in [1,2]:\n",
    "    for line in lines:\n",
    "        xs = [int(x) for x in re.findall(pattern_x, line)]\n",
    "        ys = [int(y) for y in re.findall(pattern_y, line)]\n",
    "        x1, x2, x3 = xs\n",
    "        y1, y2, y3 = ys\n",
    "        if part == 2:\n",
    "            x3 += 10000000000000\n",
    "            y3 += 10000000000000\n",
    "        b = (y3-(x3*y1/x1)) / (y2 - (x2*y1/x1))\n",
    "        a = (x3-b*x2)/x1\n",
    "        a = round(a, 3)\n",
    "        b = round(b, 3)\n",
    "        if a == int(a) and b == int(b):\n",
    "            if part == 1:\n",
    "                ans1 += int(3*a + b)\n",
    "            elif part == 2:\n",
    "                ans2 += int(3*a + b)\n"
   ]
  },
  {
   "cell_type": "code",
   "execution_count": null,
   "metadata": {},
   "outputs": [],
   "source": [
    "print(f'Answer 1:\\n{ans1}\\n')\n",
    "print(f'Answer 2:\\n{ans2}')"
   ]
  },
  {
   "cell_type": "code",
   "execution_count": null,
   "metadata": {},
   "outputs": [],
   "source": []
  }
 ],
 "metadata": {
  "kernelspec": {
   "display_name": "Python 3",
   "language": "python",
   "name": "python3"
  },
  "language_info": {
   "codemirror_mode": {
    "name": "ipython",
    "version": 3
   },
   "file_extension": ".py",
   "mimetype": "text/x-python",
   "name": "python",
   "nbconvert_exporter": "python",
   "pygments_lexer": "ipython3",
   "version": "3.10.12"
  }
 },
 "nbformat": 4,
 "nbformat_minor": 2
}
