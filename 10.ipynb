{
 "cells": [
  {
   "cell_type": "code",
   "execution_count": 1,
   "metadata": {},
   "outputs": [],
   "source": [
    "with open('10.in') as f:\n",
    "    lines = f.read().strip().split('\\n')\n",
    "    grid = [[int(x) for x in line] for line in lines]"
   ]
  },
  {
   "cell_type": "code",
   "execution_count": 2,
   "metadata": {},
   "outputs": [],
   "source": [
    "g = {}\n",
    "#  build a graph where the vertices are i,j pairs in the grid\n",
    "# and the edges are + adjacent vertices that are 1 height larger\n",
    "for i in range(len(grid)):\n",
    "    for j in range(len(grid[0])):\n",
    "        g[(i,j)] = set({})\n",
    "        for a,b in [(1, 0), (-1, 0), (0, 1), (0, -1)]:\n",
    "            if 0 <= i+a < len(grid) and 0 <= j+b < len(grid[0]):\n",
    "                if grid[i+a][j+b] == grid[i][j] + 1:\n",
    "                    g[(i,j)].add((i+a, j+b))"
   ]
  },
  {
   "cell_type": "code",
   "execution_count": 3,
   "metadata": {},
   "outputs": [],
   "source": [
    "def dfs(v, visited, part):\n",
    "    for neighbor in g[v]:\n",
    "        if neighbor not in visited:\n",
    "            x,y = neighbor\n",
    "            if grid[x][y] == 9:\n",
    "                if part == 1:\n",
    "                    global ans1\n",
    "                    ans1 += 1   \n",
    "                else:\n",
    "                    global ans2\n",
    "                    ans2 += 1\n",
    "            # only add to visited for unique end pts of part 1\n",
    "            if part == 1:\n",
    "                visited.add(neighbor)\n",
    "            dfs(neighbor, visited, part)"
   ]
  },
  {
   "cell_type": "code",
   "execution_count": 4,
   "metadata": {},
   "outputs": [],
   "source": [
    "ans1 = 0\n",
    "ans2 = 0\n",
    "for part in [1,2]:\n",
    "    for i in range(len(grid)):\n",
    "        for j in range(len(grid[0])):\n",
    "            visited = set({})\n",
    "            if grid[i][j] == 0:\n",
    "                if part == 1:\n",
    "                    visited.add((i,j))\n",
    "                dfs((i,j), visited, part)"
   ]
  },
  {
   "cell_type": "code",
   "execution_count": 5,
   "metadata": {},
   "outputs": [
    {
     "name": "stdout",
     "output_type": "stream",
     "text": [
      "Answer 1:\n",
      "489\n",
      "\n",
      "Answer 2:\n",
      "1086\n"
     ]
    }
   ],
   "source": [
    "print(f'Answer 1:\\n{ans1}\\n')\n",
    "print(f'Answer 2:\\n{ans2}')"
   ]
  },
  {
   "cell_type": "code",
   "execution_count": null,
   "metadata": {},
   "outputs": [],
   "source": []
  }
 ],
 "metadata": {
  "kernelspec": {
   "display_name": "Python 3",
   "language": "python",
   "name": "python3"
  },
  "language_info": {
   "codemirror_mode": {
    "name": "ipython",
    "version": 3
   },
   "file_extension": ".py",
   "mimetype": "text/x-python",
   "name": "python",
   "nbconvert_exporter": "python",
   "pygments_lexer": "ipython3",
   "version": "3.10.12"
  }
 },
 "nbformat": 4,
 "nbformat_minor": 2
}
