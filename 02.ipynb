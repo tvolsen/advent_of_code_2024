{
 "cells": [
  {
   "cell_type": "code",
   "execution_count": null,
   "metadata": {},
   "outputs": [],
   "source": [
    "with open('02.in') as f:\n",
    "    raw = f.read().strip()\n",
    "    lines = raw.split('\\n')\n",
    "    lines = [[int(x) for x in line.split(' ')] for line in lines]"
   ]
  },
  {
   "cell_type": "code",
   "execution_count": null,
   "metadata": {},
   "outputs": [],
   "source": [
    "def is_valid(line):\n",
    "    valid = 1\n",
    "    # check if line is increasing or decreasing\n",
    "    if line == sorted(line) or line == sorted(line)[::-1]:\n",
    "        for i in range(1, len(line)):\n",
    "            # ensure the diff is 1 to 3\n",
    "            diff = abs(line[i] - line[i-1])\n",
    "            if not 1 <= diff <= 3:\n",
    "                valid = 0\n",
    "                break\n",
    "    else: \n",
    "        valid = 0\n",
    "    return valid"
   ]
  },
  {
   "cell_type": "code",
   "execution_count": null,
   "metadata": {},
   "outputs": [],
   "source": [
    "ans1 = 0\n",
    "ans2 = 0\n",
    "for line in lines:\n",
    "    if is_valid(line):\n",
    "        ans1 += 1\n",
    "        ans2 += 1\n",
    "    else:\n",
    "        for i in range(len(line)):\n",
    "            # remove a single element from line\n",
    "            one_removed = line[:i] + line[i+1:]\n",
    "            if is_valid(one_removed):\n",
    "                ans2 += 1\n",
    "                break"
   ]
  },
  {
   "cell_type": "code",
   "execution_count": null,
   "metadata": {},
   "outputs": [],
   "source": [
    "print(f'Answer 1:\\n{ans1}\\n')\n",
    "print(f'Answer 2:\\n{ans2}')"
   ]
  },
  {
   "cell_type": "code",
   "execution_count": null,
   "metadata": {},
   "outputs": [],
   "source": []
  }
 ],
 "metadata": {
  "kernelspec": {
   "display_name": "Python 3",
   "language": "python",
   "name": "python3"
  },
  "language_info": {
   "codemirror_mode": {
    "name": "ipython",
    "version": 3
   },
   "file_extension": ".py",
   "mimetype": "text/x-python",
   "name": "python",
   "nbconvert_exporter": "python",
   "pygments_lexer": "ipython3",
   "version": "3.10.12"
  }
 },
 "nbformat": 4,
 "nbformat_minor": 2
}
