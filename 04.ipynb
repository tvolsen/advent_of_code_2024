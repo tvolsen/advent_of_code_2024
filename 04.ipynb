{
 "cells": [
  {
   "cell_type": "code",
   "execution_count": null,
   "metadata": {},
   "outputs": [],
   "source": [
    "with open('04.in') as f:\n",
    "    grid = f.read().strip().split('\\n')"
   ]
  },
  {
   "cell_type": "code",
   "execution_count": null,
   "metadata": {},
   "outputs": [],
   "source": [
    "def search_space1(i, j, grid):\n",
    "    word = 'XMAS'\n",
    "    count = 0\n",
    "    # all 8 diagonal directions\n",
    "    directions = [(1,0), (1,1), (0,1), (-1,1), (-1,0), (-1,-1), (0,-1), (1,-1)]\n",
    "    for d in directions:\n",
    "        valid = 1\n",
    "        # follow these dictions 1-3 steps\n",
    "        for k in range(1,4):\n",
    "            a = i + k*d[0]\n",
    "            b = j + k*d[1]\n",
    "            # ensure inbounds\n",
    "            if 0 <= a < len(grid) and 0 <= b < len(grid[0]):\n",
    "                if grid[a][b] != word[k]:\n",
    "                    valid = 0\n",
    "            else:\n",
    "                valid = 0\n",
    "        if valid:\n",
    "            count += 1\n",
    "    return count"
   ]
  },
  {
   "cell_type": "code",
   "execution_count": null,
   "metadata": {},
   "outputs": [],
   "source": [
    "ans1 = 0\n",
    "for i in range(len(grid)):\n",
    "    for j in range(len(grid[0])):\n",
    "        if grid[i][j] == 'X':\n",
    "            ans1 += search_space1(i, j, grid)"
   ]
  },
  {
   "cell_type": "code",
   "execution_count": null,
   "metadata": {},
   "outputs": [],
   "source": [
    "def search_space2(i, j, grid):\n",
    "    cond1 = False\n",
    "    cond2 = False\n",
    "    # ensure inbounds\n",
    "    if i == 0 or i == len(grid) - 1:\n",
    "        return 0\n",
    "    if j == 0 or j == len(grid[0]) - 1:\n",
    "        return 0\n",
    "    # only need to check the corners of the given space\n",
    "    if grid[i-1][j-1] + grid[i+1][j+1] in ['MS', 'SM']:\n",
    "        cond1 = True\n",
    "    if grid[i-1][j+1] + grid[i+1][j-1] in ['MS', 'SM']:\n",
    "        cond2 = True\n",
    "    return int(cond1 and cond2)"
   ]
  },
  {
   "cell_type": "code",
   "execution_count": null,
   "metadata": {},
   "outputs": [],
   "source": [
    "ans2 = 0\n",
    "for i in range(len(grid)):\n",
    "    for j in range(len(grid[0])):\n",
    "        # to keep corner search logic above, only search A spaces\n",
    "        if grid[i][j] == 'A':\n",
    "            ans2 += search_space2(i, j, grid)"
   ]
  },
  {
   "cell_type": "code",
   "execution_count": null,
   "metadata": {},
   "outputs": [],
   "source": [
    "print(f'Answer 1:\\n{ans1}\\n')\n",
    "print(f'Answer 2:\\n{ans2}')"
   ]
  },
  {
   "cell_type": "code",
   "execution_count": null,
   "metadata": {},
   "outputs": [],
   "source": []
  }
 ],
 "metadata": {
  "kernelspec": {
   "display_name": "Python 3",
   "language": "python",
   "name": "python3"
  },
  "language_info": {
   "codemirror_mode": {
    "name": "ipython",
    "version": 3
   },
   "file_extension": ".py",
   "mimetype": "text/x-python",
   "name": "python",
   "nbconvert_exporter": "python",
   "pygments_lexer": "ipython3",
   "version": "3.10.12"
  }
 },
 "nbformat": 4,
 "nbformat_minor": 2
}
